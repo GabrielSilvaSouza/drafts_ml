{
 "cells": [
  {
   "cell_type": "code",
   "execution_count": 1,
   "metadata": {},
   "outputs": [],
   "source": [
    "import pandas as pd\n",
    "import numpy as np"
   ]
  },
  {
   "cell_type": "code",
   "execution_count": 6,
   "metadata": {},
   "outputs": [
    {
     "data": {
      "text/plain": [
       "array([1, 0, 1, ..., 7, 6, 9], dtype=int64)"
      ]
     },
     "execution_count": 6,
     "metadata": {},
     "output_type": "execute_result"
    }
   ],
   "source": [
    "dt = pd.read_csv('train.csv').values\n",
    "fm=  dt[:, 0:1]\n",
    "fa = dt[:, 0]\n"
   ]
  },
  {
   "cell_type": "code",
   "execution_count": 8,
   "metadata": {},
   "outputs": [
    {
     "name": "stdout",
     "output_type": "stream",
     "text": [
      "           0      1      2      3      4      5      6      7      8      9\n",
      "0      False   True  False  False  False  False  False  False  False  False\n",
      "1       True  False  False  False  False  False  False  False  False  False\n",
      "2      False   True  False  False  False  False  False  False  False  False\n",
      "3      False  False  False  False   True  False  False  False  False  False\n",
      "4       True  False  False  False  False  False  False  False  False  False\n",
      "...      ...    ...    ...    ...    ...    ...    ...    ...    ...    ...\n",
      "41995   True  False  False  False  False  False  False  False  False  False\n",
      "41996  False   True  False  False  False  False  False  False  False  False\n",
      "41997  False  False  False  False  False  False  False   True  False  False\n",
      "41998  False  False  False  False  False  False   True  False  False  False\n",
      "41999  False  False  False  False  False  False  False  False  False   True\n",
      "\n",
      "[42000 rows x 10 columns]\n"
     ]
    }
   ],
   "source": [
    "one_hot_encoded = pd.get_dummies(fa)\n",
    "print(one_hot_encoded)"
   ]
  },
  {
   "cell_type": "code",
   "execution_count": 9,
   "metadata": {},
   "outputs": [
    {
     "data": {
      "text/plain": [
       "array([[1, 0, 0, ..., 0, 0, 0],\n",
       "       [0, 0, 0, ..., 0, 0, 0],\n",
       "       [1, 0, 0, ..., 0, 0, 0],\n",
       "       ...,\n",
       "       [7, 0, 0, ..., 0, 0, 0],\n",
       "       [6, 0, 0, ..., 0, 0, 0],\n",
       "       [9, 0, 0, ..., 0, 0, 0]], dtype=int64)"
      ]
     },
     "execution_count": 9,
     "metadata": {},
     "output_type": "execute_result"
    }
   ],
   "source": [
    "dt"
   ]
  }
 ],
 "metadata": {
  "kernelspec": {
   "display_name": "Python 3",
   "language": "python",
   "name": "python3"
  },
  "language_info": {
   "codemirror_mode": {
    "name": "ipython",
    "version": 3
   },
   "file_extension": ".py",
   "mimetype": "text/x-python",
   "name": "python",
   "nbconvert_exporter": "python",
   "pygments_lexer": "ipython3",
   "version": "3.10.11"
  }
 },
 "nbformat": 4,
 "nbformat_minor": 2
}
