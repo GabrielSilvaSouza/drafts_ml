{
 "cells": [
  {
   "cell_type": "code",
   "execution_count": 11,
   "metadata": {},
   "outputs": [],
   "source": [
    "import torch\n",
    "from torch.utils.data import Dataset\n",
    "from torchvision import datasets\n",
    "from torchvision.transforms import ToTensor\n",
    "import matplotlib.pyplot as plt\n",
    "from torch import nn\n",
    "\n",
    "import torch.optim as optim\n",
    "from torch.utils.data import DataLoader\n"
   ]
  },
  {
   "cell_type": "code",
   "execution_count": 12,
   "metadata": {},
   "outputs": [],
   "source": [
    "training_data = datasets.MNIST(\n",
    "    root = \"data\",\n",
    "    train = True,\n",
    "    download = True,\n",
    "    transform = ToTensor()\n",
    ")\n",
    "\n",
    "test_data = datasets.MNIST(\n",
    "    root = \"data\",\n",
    "    train = False,\n",
    "    download =True,\n",
    "    transform = ToTensor()\n",
    ")"
   ]
  },
  {
   "cell_type": "code",
   "execution_count": 13,
   "metadata": {},
   "outputs": [
    {
     "data": {
      "image/png": "[encoded data removed]",
      "text/plain": [
       "<Figure size 800x800 with 9 Axes>"
      ]
     },
     "metadata": {},
     "output_type": "display_data"
    }
   ],
   "source": [
    "labels_map = {\n",
    "    0:'zero',\t\t\t\t\t\t\t\t\t\t\n",
    "    1:'one',\t\t\t\t\t\t\t\t\t\t\n",
    "    2:'two',\t\t\t\t\t\t\t\t\t\n",
    "    3:'three',\t\t\t\t\t\t\t\t\t\t\n",
    "    4:'four',\t\t\t\t\t\t\t\t\t\t\n",
    "    5:'five',\t\t\t\t\t\t\t\t\t\n",
    "    6:'six',\t\t\t\t\t\t\t\t\t\t\n",
    "    7:'seven',\t\t\t\t\t\t\t\t\t\t\n",
    "    8:'eight',\t\t\t\t\t\t\t\t\t\t\n",
    "    9:'nine',\n",
    "}\n",
    "\n",
    "figure = plt.figure(figsize=(8, 8))\n",
    "cols, rows = 3, 3\n",
    "\n",
    "for i in range(1, cols * rows + 1):\n",
    "    sample_idx = torch.randint(len(training_data), size=(1,)).item()\n",
    "    img, label = training_data[sample_idx]\n",
    "    \n",
    "   \n",
    "    img = img.permute(1, 2, 0)\n",
    "    \n",
    "    figure.add_subplot(rows, cols, i)\n",
    "    plt.title(labels_map[label])\n",
    "    plt.axis(\"off\")\n",
    "    plt.imshow(img)\n",
    "    \n",
    "plt.show()"
   ]
  },
  {
   "cell_type": "code",
   "execution_count": 14,
   "metadata": {},
   "outputs": [],
   "source": [
    "class CIFAR10(nn.Module):\n",
    "    def __init__(self, num_inputs, num_outpus, num_hiddens):\n",
    "        super().__init__()\n",
    "        self.W1 = nn.Parameter(torch.randn(num_inputs, num_hiddens) * 0.01)\n",
    "        self.b1 = nn.Parameter(torch.randn(num_hiddens))\n",
    "        self.W2 = nn.Parameter(torch.randn(num_hiddens, num_outpus) * 0.01)\n",
    "        self.b2 = nn.Parameter(torch.randn(num_hiddens))\n",
    "\n",
    "    def forward(self, o):\n",
    "\n",
    "        u = nn.Flatten()\n",
    "        X = u(o)\n",
    "        k = nn.ReLU()\n",
    "        d = torch.matmul(X, self.W1) + self.b1\n",
    "        H = k(d)\n",
    "        return torch.matmul(H, self.W2) + self.b2\n",
    "    \n"
   ]
  },
  {
   "cell_type": "code",
   "execution_count": 18,
   "metadata": {},
   "outputs": [],
   "source": [
    "model = CIFAR10(784, 784, 784)\n",
    "\n",
    "crit = nn.CrossEntropyLoss()\n",
    "optimizer = optim.SGD(model.parameters(), lr=0.001)     \n",
    "\n",
    "train_dataloader = DataLoader(training_data, batch_size=64, shuffle=True)\n",
    "test_dataloader = DataLoader(test_data, batch_size=64, shuffle=True)"
   ]
  },
  {
   "cell_type": "code",
   "execution_count": 19,
   "metadata": {},
   "outputs": [
    {
     "name": "stdout",
     "output_type": "stream",
     "text": [
      "Epoch 1/10, Loss: 2.7642\n",
      "Epoch 2/10, Loss: 2.1826\n",
      "Epoch 3/10, Loss: 1.9958\n",
      "Epoch 4/10, Loss: 1.7335\n",
      "Epoch 5/10, Loss: 1.4480\n",
      "Epoch 6/10, Loss: 1.2050\n",
      "Epoch 7/10, Loss: 1.0232\n",
      "Epoch 8/10, Loss: 0.8909\n",
      "Epoch 9/10, Loss: 0.7942\n",
      "Epoch 10/10, Loss: 0.7215\n"
     ]
    }
   ],
   "source": [
    "num_epochs = 10\n",
    "for epoch in range(num_epochs):\n",
    "    model.train()\n",
    "    total_loss = 0.0\n",
    "    for inputs, labels in train_dataloader:\n",
    "        optimizer.zero_grad() \n",
    "        outputs = model(inputs)\n",
    "        loss = crit(outputs, labels)\n",
    "        loss.backward()  \n",
    "        optimizer.step()  \n",
    "        total_loss += loss.item()\n",
    "\n",
    "   \n",
    "    avg_loss = total_loss / len(train_dataloader)\n",
    "\n",
    "    \n",
    "    print(f\"Epoch {epoch + 1}/{num_epochs}, Loss: {avg_loss:.4f}\")"
   ]
  },
  {
   "cell_type": "code",
   "execution_count": 20,
   "metadata": {},
   "outputs": [
    {
     "name": "stdout",
     "output_type": "stream",
     "text": [
      "Test Accuracy: 84.62%\n"
     ]
    }
   ],
   "source": [
    "model.eval()\n",
    "with torch.no_grad():\n",
    "    correct = 0\n",
    "    total = 0\n",
    "    for inputs, labels in test_dataloader:\n",
    "        outputs = model(inputs)\n",
    "        _, predicted = torch.max(outputs, 1)\n",
    "        total += labels.size(0)\n",
    "        correct += (predicted == labels).sum().item()\n",
    "\n",
    "    accuracy = 100 * correct / total\n",
    "    print(f\"Test Accuracy: {accuracy:.2f}%\")"
   ]
  }
 ],
 "metadata": {
  "kernelspec": {
   "display_name": "Python 3",
   "language": "python",
   "name": "python3"
  },
  "language_info": {
   "codemirror_mode": {
    "name": "ipython",
    "version": 3
   },
   "file_extension": ".py",
   "mimetype": "text/x-python",
   "name": "python",
   "nbconvert_exporter": "python",
   "pygments_lexer": "ipython3",
   "version": "3.10.11"
  }
 },
 "nbformat": 4,
 "nbformat_minor": 2
}
